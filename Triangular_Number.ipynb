{
  "nbformat": 4,
  "nbformat_minor": 0,
  "metadata": {
    "colab": {
      "provenance": [],
      "authorship_tag": "ABX9TyOG7/VIWcjDz74BT1kprVih",
      "include_colab_link": true
    },
    "kernelspec": {
      "name": "python3",
      "display_name": "Python 3"
    },
    "language_info": {
      "name": "python"
    }
  },
  "cells": [
    {
      "cell_type": "markdown",
      "metadata": {
        "id": "view-in-github",
        "colab_type": "text"
      },
      "source": [
        "<a href=\"https://colab.research.google.com/github/ShadidIntisar99/Codeforces-Solutions-/blob/main/Triangular_Number.ipynb\" target=\"_parent\"><img src=\"https://colab.research.google.com/assets/colab-badge.svg\" alt=\"Open In Colab\"/></a>"
      ]
    },
    {
      "cell_type": "code",
      "execution_count": 4,
      "metadata": {
        "colab": {
          "base_uri": "https://localhost:8080/"
        },
        "id": "Um2tFagW7HWF",
        "outputId": "8e96aaa6-5516-421c-8039-09506c88a2fd"
      },
      "outputs": [
        {
          "output_type": "stream",
          "name": "stdout",
          "text": [
            "1\n",
            "NO\n"
          ]
        }
      ],
      "source": [
        "input_num = input()\n",
        "input_num = int(input_num)\n",
        "#form = (num(num+1))/2\n",
        "t_num =[]\n",
        "count = 1\n",
        "\n",
        "for output in range(500):\n",
        "  t_num.append(int((count*(count+1))/2))\n",
        "  count += 1\n",
        "\n",
        "for check in t_num:\n",
        "  if input_num in t_num:\n",
        "    print(\"YES\")\n",
        "    break\n",
        "  else:\n",
        "    print(\"NO\")\n",
        "    break"
      ]
    }
  ]
}